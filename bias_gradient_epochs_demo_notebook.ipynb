{
  "cells": [
    {
      "cell_type": "markdown",
      "metadata": {
        "id": "view-in-github",
        "colab_type": "text"
      },
      "source": [
        "<a href=\"https://colab.research.google.com/github/sarang5258/DL_WC/blob/master/bias_gradient_epochs_demo_notebook.ipynb\" target=\"_parent\"><img src=\"https://colab.research.google.com/assets/colab-badge.svg\" alt=\"Open In Colab\"/></a>"
      ]
    },
    {
      "cell_type": "markdown",
      "metadata": {
        "id": "jC4MWH3x8JRb"
      },
      "source": [
        "# Deep Learning Concepts: Bias, Vanishing Gradient, and Epochs\n",
        "This notebook demonstrates key training insights using MNIST and simple feedforward networks.\n",
        "\n",
        "**Topics Covered:**\n",
        "- The role of Bias in neural networks\n",
        "- Vanishing Gradient using Sigmoid vs ReLU\n",
        "- Understanding Epochs and EarlyStopping"
      ]
    },
    {
      "cell_type": "code",
      "execution_count": null,
      "metadata": {
        "id": "RMdMPNw38JRf"
      },
      "outputs": [],
      "source": [
        "# Install dependencies\n",
        "!pip install tensorflow matplotlib"
      ]
    },
    {
      "cell_type": "code",
      "execution_count": null,
      "metadata": {
        "id": "8NoLovMM8JRh"
      },
      "outputs": [],
      "source": [
        "import numpy as np\n",
        "import matplotlib.pyplot as plt\n",
        "from tensorflow.keras.models import Sequential\n",
        "from tensorflow.keras.layers import Dense, Flatten\n",
        "from tensorflow.keras.datasets import mnist\n",
        "from tensorflow.keras.utils import to_categorical\n",
        "from tensorflow.keras.callbacks import EarlyStopping"
      ]
    },
    {
      "cell_type": "markdown",
      "metadata": {
        "id": "Sg_NtlN88JRi"
      },
      "source": [
        "## Load and Preprocess MNIST Dataset"
      ]
    },
    {
      "cell_type": "code",
      "execution_count": null,
      "metadata": {
        "id": "47yE3BO88JRi"
      },
      "outputs": [],
      "source": [
        "(x_train, y_train), (x_test, y_test) = mnist.load_data()\n",
        "x_train, x_test = x_train / 255.0, x_test / 255.0\n",
        "\n",
        "# Limit data for quick experimentation\n",
        "x_train, y_train = x_train[:10000], y_train[:10000]\n",
        "x_test, y_test = x_test[:2000], y_test[:2000]\n",
        "\n",
        "y_train_cat = to_categorical(y_train, 10)\n",
        "y_test_cat = to_categorical(y_test, 10)"
      ]
    },
    {
      "cell_type": "markdown",
      "metadata": {
        "id": "6-_Htkyq8JRj"
      },
      "source": [
        "## Define and Train Sigmoid vs ReLU Models"
      ]
    },
    {
      "cell_type": "code",
      "execution_count": null,
      "metadata": {
        "id": "XLNPTVTV8JRj"
      },
      "outputs": [],
      "source": [
        "def build_model(activation):\n",
        "    model = Sequential([\n",
        "        Flatten(input_shape=(28, 28)),\n",
        "        Dense(128, activation=activation),\n",
        "        Dense(64, activation=activation),\n",
        "        Dense(10, activation='softmax')\n",
        "    ])\n",
        "    model.compile(optimizer='adam', loss='categorical_crossentropy', metrics=['accuracy'])\n",
        "    return model\n",
        "\n",
        "early_stop = EarlyStopping(monitor='val_loss', patience=3, restore_best_weights=True)\n",
        "\n",
        "sigmoid_model = build_model('sigmoid')\n",
        "relu_model = build_model('relu')\n",
        "\n",
        "history_sigmoid = sigmoid_model.fit(x_train, y_train_cat, validation_data=(x_test, y_test_cat),\n",
        "                                    epochs=30, batch_size=64, callbacks=[early_stop], verbose=1)\n",
        "\n",
        "history_relu = relu_model.fit(x_train, y_train_cat, validation_data=(x_test, y_test_cat),\n",
        "                              epochs=30, batch_size=64, callbacks=[early_stop], verbose=1)"
      ]
    },
    {
      "cell_type": "markdown",
      "metadata": {
        "id": "14xzJMkD8JRk"
      },
      "source": [
        "## Plot Training and Validation Accuracy"
      ]
    },
    {
      "cell_type": "code",
      "execution_count": null,
      "metadata": {
        "id": "DSdpmaVw8JRk"
      },
      "outputs": [],
      "source": [
        "plt.figure(figsize=(10, 5))\n",
        "plt.plot(history_sigmoid.history['accuracy'], label='Sigmoid - Training')\n",
        "plt.plot(history_sigmoid.history['val_accuracy'], label='Sigmoid - Validation')\n",
        "plt.plot(history_relu.history['accuracy'], label='ReLU - Training')\n",
        "plt.plot(history_relu.history['val_accuracy'], label='ReLU - Validation')\n",
        "plt.title('Training vs Validation Accuracy')\n",
        "plt.xlabel('Epoch')\n",
        "plt.ylabel('Accuracy')\n",
        "plt.legend()\n",
        "plt.grid(True)\n",
        "plt.show()"
      ]
    }
  ],
  "metadata": {
    "kernelspec": {
      "display_name": "Python 3",
      "language": "python",
      "name": "python3"
    },
    "language_info": {
      "name": "python",
      "version": ""
    },
    "colab": {
      "provenance": [],
      "include_colab_link": true
    }
  },
  "nbformat": 4,
  "nbformat_minor": 0
}